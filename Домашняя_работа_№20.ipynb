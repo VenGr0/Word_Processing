{
  "nbformat": 4,
  "nbformat_minor": 0,
  "metadata": {
    "colab": {
      "provenance": [],
      "gpuType": "T4",
      "include_colab_link": true
    },
    "kernelspec": {
      "name": "python3",
      "display_name": "Python 3"
    },
    "language_info": {
      "name": "python"
    },
    "accelerator": "GPU"
  },
  "cells": [
    {
      "cell_type": "markdown",
      "metadata": {
        "id": "view-in-github",
        "colab_type": "text"
      },
      "source": [
        "<a href=\"https://colab.research.google.com/github/VenGr0/Word_Processing/blob/main/%D0%94%D0%BE%D0%BC%D0%B0%D1%88%D0%BD%D1%8F%D1%8F_%D1%80%D0%B0%D0%B1%D0%BE%D1%82%D0%B0_%E2%84%9620.ipynb\" target=\"_parent\"><img src=\"https://colab.research.google.com/assets/colab-badge.svg\" alt=\"Open In Colab\"/></a>"
      ]
    },
    {
      "cell_type": "code",
      "source": [
        "!wget https://storage.yandexcloud.net/academy.ai/russian_literature.zip"
      ],
      "metadata": {
        "colab": {
          "base_uri": "https://localhost:8080/"
        },
        "id": "3cXUUzGAuIVZ",
        "outputId": "ea953426-67f9-444d-c8bb-6db45bdbbe60"
      },
      "execution_count": null,
      "outputs": [
        {
          "output_type": "stream",
          "name": "stdout",
          "text": [
            "--2024-05-29 14:05:46--  https://storage.yandexcloud.net/academy.ai/russian_literature.zip\n",
            "Resolving storage.yandexcloud.net (storage.yandexcloud.net)... 213.180.193.243, 2a02:6b8::1d9\n",
            "Connecting to storage.yandexcloud.net (storage.yandexcloud.net)|213.180.193.243|:443... connected.\n",
            "HTTP request sent, awaiting response... 200 OK\n",
            "Length: 21547079 (21M) [application/x-zip-compressed]\n",
            "Saving to: ‘russian_literature.zip’\n",
            "\n",
            "russian_literature. 100%[===================>]  20.55M  9.47MB/s    in 2.2s    \n",
            "\n",
            "2024-05-29 14:05:49 (9.47 MB/s) - ‘russian_literature.zip’ saved [21547079/21547079]\n",
            "\n"
          ]
        }
      ]
    },
    {
      "cell_type": "code",
      "source": [
        "# Разархивируем датасета во временную папку 'dataset'\n",
        "!unzip -qo \"russian_literature\" -d ./dataset"
      ],
      "metadata": {
        "colab": {
          "base_uri": "https://localhost:8080/"
        },
        "id": "PeUQMdA1uksf",
        "outputId": "282f869d-31b9-465d-9346-fbf520990e74"
      },
      "execution_count": null,
      "outputs": [
        {
          "output_type": "stream",
          "name": "stdout",
          "text": [
            "error:  cannot create ./dataset/poems/Blok/╨б╤В╨╕╤Е╨╛╤В╨▓╨╛╤А╨╡╨╜╨╕╤П 1897-1903 ╨│╨│, ╨╜╨╡ ╨▓╨╛╤И╨╡╨┤╤И╨╕╨╡ ╨▓ ╨╛╤Б╨╜╨╛╨▓╨╜╨╛╨╡ ╤Б╨╛╨▒╤А╨░╨╜╨╕╨╡.txt\n",
            "        File name too long\n",
            "error:  cannot create ./dataset/prose/Gogol/╨Я╨╛╨▓╨╡╤Б╤В╤М ╨╛ ╤В╨╛╨╝, ╨║╨░╨║ ╨┐╨╛╤Б╤Б╨╛╤А╨╕╨╗╤Б╤П ╨Ш╨▓╨░╨╜ ╨Ш╨▓╨░╨╜╨╛╨▓╨╕╤З ╤Б ╨Ш╨▓╨░╨╜╨╛╨╝ ╨Э╨╕╨║╨╕╤Д╨╛╤А╨╛╨▓╨╕╤З╨╡╨╝.txt\n",
            "        File name too long\n",
            "error:  cannot create ./dataset/publicism/Tolstoy/╨Ф╨╛╨║╨╗╨░╨┤, ╨┐╤А╨╕╨│╨╛╤В╨╛╨▓╨╗╨╡╨╜╨╜╤Л╨╣ ╨┤╨╗╤П ╨║╨╛╨╜╨│╤А╨╡╤Б╤Б╨░ ╨╛ ╨╝╨╕╤А╨╡ ╨▓ ╨б╤В╨╛╨║╨│╨╛╨╗╤М╨╝╨╡.txt\n",
            "        File name too long\n",
            "error:  cannot create ./dataset/publicism/Tolstoy/╨Я╨╛╤З╨╡╨╝╤Г ╤Е╤А╨╕╤Б╤В╨╕╨░╨╜╤Б╨║╨╕╨╡ ╨╜╨░╤А╨╛╨┤╤Л ╨▓╨╛╨╛╨▒╤Й╨╡ ╨╕ ╨▓ ╨╛╤Б╨╛╨▒╨╡╨╜╨╜╨╛╤Б╤В╨╕ ╤А╤Г╤Б╤Б╨║╨╕╨╣ ╨╜╨░╤Е╨╛╨┤╤П╤В╤Б╤П ╤В╨╡╨┐╨╡╤А╤М ╨▓ ╨▒╨╡╨┤╤Б╤В╨▓╨╡╨╜╨╜╨╛╨╝ ╨┐╨╛╨╗╨╛╨╢╨╡╨╜╨╕╨╕.txt\n",
            "        File name too long\n"
          ]
        }
      ]
    },
    {
      "cell_type": "code",
      "source": [
        "!dir ./dataset/prose"
      ],
      "metadata": {
        "colab": {
          "base_uri": "https://localhost:8080/"
        },
        "id": "FVksrbiUulKR",
        "outputId": "9a69ac4c-eaa1-4641-fbd7-843ca4c091cc"
      },
      "execution_count": null,
      "outputs": [
        {
          "output_type": "stream",
          "name": "stdout",
          "text": [
            "Blok  Bryusov  Chekhov\tDostoevsky  Gogol  Gorky  Herzen  Lermontov  Pushkin  Tolstoy  Turgenev\n"
          ]
        }
      ]
    },
    {
      "cell_type": "code",
      "source": [
        "!dir ./dataset/poems"
      ],
      "metadata": {
        "colab": {
          "base_uri": "https://localhost:8080/"
        },
        "id": "MVCiF0wLuvSL",
        "outputId": "18b0bea5-82de-4cc1-9ca3-0f029da62665"
      },
      "execution_count": null,
      "outputs": [
        {
          "output_type": "stream",
          "name": "stdout",
          "text": [
            "Blok  Lermontov  Nekrasov  Pushkin\n"
          ]
        }
      ]
    },
    {
      "cell_type": "code",
      "source": [
        "# Загрузка необходимых библиотек\n",
        "import glob # Вспомогательный модуль для работы с файловой системой\n",
        "import numpy as np\n",
        "from keras import utils\n",
        "from keras.models import Sequential\n",
        "from keras.layers import Dense, Dropout, SpatialDropout1D, BatchNormalization, Embedding, Flatten, Activation\n",
        "from keras.preprocessing.text import Tokenizer\n",
        "from sklearn.metrics import confusion_matrix, ConfusionMatrixDisplay # Для работы с матрицей ошибок\n",
        "\n",
        "\n",
        "# Выбираем их явно, чтобы список был перед глазами, и отложилось в голове, что имена писателей (точнее их порядковый номер) - это метки\n",
        "CLASS_LIST=[\"Dostoevsky\", \"Tolstoy\", \"Turgenev\", \"Chekhov\", \"Lermontov\", \"Blok\", \"Pushkin\", \"Gogol\", \"Gorky\", \"Herzen\", \"Bryusov\", \"Nekrasov\" ]\n",
        "\n",
        "all_texts = {} # Собираем в словарь весь датасет\n",
        "\n",
        "for author in CLASS_LIST:\n",
        "  all_texts[author] = '' # Инициализируем пустой строкой новый ключ словаря\n",
        "  for path in glob.glob('./dataset/prose/{}/*.txt'.format(author)) +  glob.glob('./dataset/poems/{}/*.txt'.format(author)): # Поиск файлов по шаблону\n",
        "    with open(f'{path}', 'r', errors='ignore') as f: # игнорируем ошибки (например символы из другой кодировки)\n",
        "                # Загрузка содержимого файла в строку\n",
        "                text = f.read()\n",
        "\n",
        "    all_texts[author]  += ' ' + text.replace('\\n', ' ') # Заменяем символ перехода на новую строку пробелом"
      ],
      "metadata": {
        "id": "0v4Bw5mou3Pl"
      },
      "execution_count": null,
      "outputs": []
    },
    {
      "cell_type": "code",
      "source": [
        "# используем генератор цикла для получения длины текстов по каждому автору\n",
        "total = sum(len(i) for i in all_texts.values())\n",
        "print(f'Датасет состоит из {total} символов')"
      ],
      "metadata": {
        "colab": {
          "base_uri": "https://localhost:8080/"
        },
        "id": "mNs8C4u3u8Bv",
        "outputId": "4d0e17fe-fe35-4677-95d3-f7a1834f222c"
      },
      "execution_count": null,
      "outputs": [
        {
          "output_type": "stream",
          "name": "stdout",
          "text": [
            "Датасет состоит из 38146925 символов\n"
          ]
        }
      ]
    },
    {
      "cell_type": "code",
      "source": [
        "print('Общая выборка по писателям:')\n",
        "for author in CLASS_LIST:\n",
        "    # удобный метод форматирования 2 знака после запятой f'{ВЫРАЖЕНИЕ:.2f}'\n",
        "    print(f'{author} - {len(all_texts[author])} символов, доля в общей базе: {len(all_texts[author])/total*100 :.2f}%')"
      ],
      "metadata": {
        "colab": {
          "base_uri": "https://localhost:8080/"
        },
        "id": "9zNyCjUkvkpG",
        "outputId": "f2faf521-e992-4e87-e4bc-7f84f57705af"
      },
      "execution_count": null,
      "outputs": [
        {
          "output_type": "stream",
          "name": "stdout",
          "text": [
            "Общая выборка по писателям:\n",
            "Dostoevsky - 11221679 символов, доля в общей базе: 29.42%\n",
            "Tolstoy - 9392435 символов, доля в общей базе: 24.62%\n",
            "Turgenev - 2345243 символов, доля в общей базе: 6.15%\n",
            "Chekhov - 1834330 символов, доля в общей базе: 4.81%\n",
            "Lermontov - 364382 символов, доля в общей базе: 0.96%\n",
            "Blok - 604204 символов, доля в общей базе: 1.58%\n",
            "Pushkin - 1399557 символов, доля в общей базе: 3.67%\n",
            "Gogol - 2196599 символов, доля в общей базе: 5.76%\n",
            "Gorky - 4324025 символов, доля в общей базе: 11.34%\n",
            "Herzen - 1282316 символов, доля в общей базе: 3.36%\n",
            "Bryusov - 2830897 символов, доля в общей базе: 7.42%\n",
            "Nekrasov - 351258 символов, доля в общей базе: 0.92%\n"
          ]
        }
      ]
    },
    {
      "cell_type": "code",
      "source": [
        "import matplotlib.pyplot as plt\n",
        "%matplotlib inline\n",
        "fig, ax = plt.subplots()\n",
        "ax.pie([len(i) for i in all_texts.values()], # формируем список значений как длина символов текста каждого автора\n",
        "       labels=CLASS_LIST,                    # список меток\n",
        "       pctdistance=1.2,                      # дистанция размещения % (1 - граница окружности)\n",
        "       labeldistance=1.4,                    # размещение меток (1 - граница окружности)\n",
        "       autopct='%1.2f%%'                     # формат для % (2 знака после запятой)\n",
        "      )\n",
        "plt.show()"
      ],
      "metadata": {
        "colab": {
          "base_uri": "https://localhost:8080/",
          "height": 435
        },
        "id": "RgmsxLmCwgcB",
        "outputId": "33fed808-8d5c-4933-8efe-9e4a73d2b156"
      },
      "execution_count": null,
      "outputs": [
        {
          "output_type": "display_data",
          "data": {
            "text/plain": [
              "<Figure size 640x480 with 1 Axes>"
            ],
            "image/png": "[encoded data removed]"
          },
          "metadata": {}
        }
      ]
    },
    {
      "cell_type": "code",
      "source": [
        "NUM_WORDS = 10000 # Размер словаря\n",
        "\n",
        "# Используется встроенный в Keras токенизатор для разбиения текста и построения частотного словаря\n",
        "tokenizer = Tokenizer(num_words=NUM_WORDS,\n",
        "                      filters='!\"#$%&()*+,-–—./…:;<=>?@[\\\\]^_`{|}~«»\\t\\n\\xa0\\ufeff',\n",
        "                      lower=True, split=' ', oov_token='неизвестное_слово', char_level=False)\n",
        "\n",
        "\n",
        "# Построение частотного словаря по текстам\n",
        "tokenizer.fit_on_texts(all_texts.values())\n",
        "items = list(tokenizer.word_index.items())"
      ],
      "metadata": {
        "id": "P8Np_KNkI9Qg"
      },
      "execution_count": null,
      "outputs": []
    },
    {
      "cell_type": "code",
      "source": [
        "# Вывод нескольких наиболее часто встречающихся слов\n",
        "print(\"Первые 10 часто встречающих слова\", items[:10])\n",
        "\n",
        "# Размер словаря может быть больше, чем num_words, однако при преобразовании в последовательности или матрицы учитываются только первые num_words слов\n",
        "print(\"Размер словаря:\", len(items))"
      ],
      "metadata": {
        "colab": {
          "base_uri": "https://localhost:8080/"
        },
        "id": "IIrzA2WSI_Ub",
        "outputId": "3dee00c2-9f87-4624-cca5-28eed86711ca"
      },
      "execution_count": null,
      "outputs": [
        {
          "output_type": "stream",
          "name": "stdout",
          "text": [
            "Первые 10 часто встречающих слова [('неизвестное_слово', 1), ('и', 2), ('в', 3), ('не', 4), ('что', 5), ('я', 6), ('на', 7), ('с', 8), ('он', 9), ('как', 10)]\n",
            "Размер словаря: 249845\n"
          ]
        }
      ]
    },
    {
      "cell_type": "code",
      "source": [
        "# Проверка индекса слова в словаре\n",
        "try:\n",
        "    print('Вы ввели слово с индексом:', tokenizer.word_index[input('Введите слово (в нижнем регистре): ')])\n",
        "except:\n",
        "    print('Такого слова нет в словаре слова нет в словаре')"
      ],
      "metadata": {
        "colab": {
          "base_uri": "https://localhost:8080/"
        },
        "id": "I0RvPkt2JGig",
        "outputId": "cb083bcf-212a-43bf-f730-4a80080d480b"
      },
      "execution_count": null,
      "outputs": [
        {
          "output_type": "stream",
          "name": "stdout",
          "text": [
            "Введите слово (в нижнем регистре): дуб\n",
            "Вы ввели слово с индексом: 8394\n"
          ]
        }
      ]
    },
    {
      "cell_type": "code",
      "source": [
        "seq_train = tokenizer.texts_to_sequences(all_texts.values())"
      ],
      "metadata": {
        "id": "pWgOvqMxJLZS"
      },
      "execution_count": null,
      "outputs": []
    },
    {
      "cell_type": "code",
      "source": [
        "author = \"Pushkin\"\n",
        "cls = CLASS_LIST.index(author)\n",
        "\n",
        "print(\"Фрагмент обучающего текста:\")\n",
        "print(\"В виде оригинального текста:              \", all_texts[author][:120])\n",
        "print(\"Он же в виде последовательности индексов: \", seq_train[cls][:20])"
      ],
      "metadata": {
        "colab": {
          "base_uri": "https://localhost:8080/"
        },
        "id": "o2m9Dsq3JPtL",
        "outputId": "3f9ce131-afa3-42d8-ea4e-acd734dff2ad"
      },
      "execution_count": null,
      "outputs": [
        {
          "output_type": "stream",
          "name": "stdout",
          "text": [
            "Фрагмент обучающего текста:\n",
            "В виде оригинального текста:                Александр Пушкин ЕГИПЕТСКИЕ НОЧИ ГЛАВА I — Quel est cet homme? — На c'est un bien grand talent, il fait de sa voix tout\n",
            "Он же в виде последовательности индексов:  [2097, 3330, 1, 623, 997, 571, 1, 2316, 1, 6545, 7, 2655, 1727, 4593, 7610, 1, 1450, 6544, 469, 9784]\n"
          ]
        }
      ]
    },
    {
      "cell_type": "code",
      "source": [
        "# используем генератор цикла для получения длины текстов по каждому автору\n",
        "total = sum(len(i) for i in seq_train)\n",
        "print(f'Датасет состоит из {total} слов')"
      ],
      "metadata": {
        "colab": {
          "base_uri": "https://localhost:8080/"
        },
        "id": "3z8OiXJmJWle",
        "outputId": "eff3515b-922c-4d63-ec60-b3cdcb251a62"
      },
      "execution_count": null,
      "outputs": [
        {
          "output_type": "stream",
          "name": "stdout",
          "text": [
            "Датасет состоит из 5938471 слов\n"
          ]
        }
      ]
    },
    {
      "cell_type": "code",
      "source": [
        "print('Общая выборка по писателям (по словам):')\n",
        "mean_list = np.array([])\n",
        "for author in CLASS_LIST:\n",
        "    cls = CLASS_LIST.index(author)\n",
        "    print(f'{author} - {len(seq_train[cls])} слов, доля в общей базе: {len(seq_train[cls])/total*100 :.2f}%')\n",
        "    mean_list = np.append(mean_list, len(seq_train[cls]))\n",
        "\n",
        "print('Среднее значение слов: ', np.round(mean_list.mean()))\n",
        "print('Медианное значение слов: ', np.median(mean_list))"
      ],
      "metadata": {
        "colab": {
          "base_uri": "https://localhost:8080/"
        },
        "id": "U5QNaTYbbqqp",
        "outputId": "abe7032a-d4d6-40cc-c765-c9f8c32b86a5"
      },
      "execution_count": null,
      "outputs": [
        {
          "output_type": "stream",
          "name": "stdout",
          "text": [
            "Общая выборка по писателям (по словам):\n",
            "Dostoevsky - 1779919 слов, доля в общей базе: 29.97%\n",
            "Tolstoy - 1456418 слов, доля в общей базе: 24.53%\n",
            "Turgenev - 365152 слов, доля в общей базе: 6.15%\n",
            "Chekhov - 291031 слов, доля в общей базе: 4.90%\n",
            "Lermontov - 55465 слов, доля в общей базе: 0.93%\n",
            "Blok - 89445 слов, доля в общей базе: 1.51%\n",
            "Pushkin - 214000 слов, доля в общей базе: 3.60%\n",
            "Gogol - 341263 слов, доля в общей базе: 5.75%\n",
            "Gorky - 671672 слов, доля в общей базе: 11.31%\n",
            "Herzen - 190526 слов, доля в общей базе: 3.21%\n",
            "Bryusov - 430108 слов, доля в общей базе: 7.24%\n",
            "Nekrasov - 53472 слов, доля в общей базе: 0.90%\n",
            "Среднее значение слов:  494873.0\n",
            "Медианное значение слов:  316147.0\n"
          ]
        }
      ]
    },
    {
      "cell_type": "code",
      "source": [
        "median = int(np.median(mean_list)) # Зафиксировали медианное значение\n",
        "CLASS_LIST_BALANCE = [] # Сбалансированный набор меток\n",
        "seq_train_balance = []\n",
        "for author in CLASS_LIST:\n",
        "    cls = CLASS_LIST.index(author)\n",
        "    if len(seq_train[cls]) > median * 0.6:\n",
        "      seq_train_balance.append(seq_train[cls][:median])\n",
        "      CLASS_LIST_BALANCE.append(author)"
      ],
      "metadata": {
        "id": "ua76fGo_btix"
      },
      "execution_count": null,
      "outputs": []
    },
    {
      "cell_type": "code",
      "source": [
        "total = sum(len(i) for i in seq_train_balance)\n",
        "\n",
        "print('Сбалансированная выборка по писателям (по словам):')\n",
        "mean_list_balance = np.array([])\n",
        "for author in CLASS_LIST_BALANCE:\n",
        "    cls = CLASS_LIST_BALANCE.index(author)\n",
        "    print(f'{author} - {len(seq_train_balance[cls])} слов, доля в общей базе: {len(seq_train_balance[cls])/total*100 :.2f}%')\n",
        "    mean_list_balance = np.append(mean_list_balance, len(seq_train_balance[cls]))\n",
        "\n",
        "print('Среднее значение слов: ', np.round(mean_list_balance.mean()))\n",
        "print('Медианное значение слов: ', np.median(mean_list_balance))"
      ],
      "metadata": {
        "colab": {
          "base_uri": "https://localhost:8080/"
        },
        "id": "5MTw9M5Cbxk4",
        "outputId": "49e14b03-a690-4b1d-f3a2-7debebbe6543"
      },
      "execution_count": null,
      "outputs": [
        {
          "output_type": "stream",
          "name": "stdout",
          "text": [
            "Сбалансированная выборка по писателям (по словам):\n",
            "Dostoevsky - 316147 слов, доля в общей базе: 12.19%\n",
            "Tolstoy - 316147 слов, доля в общей базе: 12.19%\n",
            "Turgenev - 316147 слов, доля в общей базе: 12.19%\n",
            "Chekhov - 291031 слов, доля в общей базе: 11.23%\n",
            "Pushkin - 214000 слов, доля в общей базе: 8.25%\n",
            "Gogol - 316147 слов, доля в общей базе: 12.19%\n",
            "Gorky - 316147 слов, доля в общей базе: 12.19%\n",
            "Herzen - 190526 слов, доля в общей базе: 7.35%\n",
            "Bryusov - 316147 слов, доля в общей базе: 12.19%\n",
            "Среднее значение слов:  288049.0\n",
            "Медианное значение слов:  316147.0\n"
          ]
        }
      ]
    },
    {
      "cell_type": "code",
      "source": [
        "WIN_SIZE = 1000   # Ширина окна в токенах\n",
        "WIN_STEP = 100    # Шаг окна в токенах"
      ],
      "metadata": {
        "id": "km5x2HAPb5Lp"
      },
      "execution_count": null,
      "outputs": []
    },
    {
      "cell_type": "code",
      "source": [
        "# Функция разбиения последовательности на отрезки скользящим окном\n",
        "# Последовательность разбивается на части до последнего полного окна\n",
        "# Параметры:\n",
        "# sequence - последовательность токенов\n",
        "# win_size - размер окна\n",
        "# step - шаг окна\n",
        "def seq_split(sequence, win_size, step):\n",
        "    # Делим строку на отрезки с помощью генератора цикла\n",
        "    return [sequence[i:i + win_size] for i in range(0, len(sequence) - win_size + 1, step)]"
      ],
      "metadata": {
        "id": "rr-jQXcLb8TB"
      },
      "execution_count": null,
      "outputs": []
    },
    {
      "cell_type": "code",
      "source": [
        "def seq_vectorize(\n",
        "    seq_list,   # Последовательность\n",
        "    test_split, # Доля на тестовую сборку\n",
        "    class_list, # Список классов\n",
        "    win_size,   # Ширина скользящего окна\n",
        "    step        # Шаг скользящего окна\n",
        "):\n",
        "\n",
        "    # Списки для результирующих данных\n",
        "    x_train, y_train, x_test, y_test =  [], [], [], []\n",
        "\n",
        "    # Пробежимся по всем классам:\n",
        "    for class_item in class_list:\n",
        "        # Получим индекс класса\n",
        "        cls = class_list.index(class_item)\n",
        "\n",
        "        # Пороговое значение индекса для разбивки на тестовую и обучающую выборки\n",
        "        gate_split = int(len(seq_list[cls]) * (1-test_split))\n",
        "\n",
        "        # Разбиваем последовательность токенов класса на отрезки\n",
        "        vectors_train = seq_split(seq_list[cls][:gate_split], win_size, step) # последовательность до порога попадет в обучающую выборку\n",
        "        vectors_test = seq_split(seq_list[cls][gate_split:], win_size, step)  # последовательность после порога попадет в тестовую выборку\n",
        "\n",
        "        # Добавляем отрезки в выборку\n",
        "        x_train += vectors_train\n",
        "        x_test += vectors_test\n",
        "\n",
        "        # Для всех отрезков класса добавляем метки класса в виде one-hot-encoding\n",
        "        # Каждую метку берем len(vectors) раз, так она одинакова для всех выборок одного класса\n",
        "        y_train += [utils.to_categorical(cls, len(class_list))] * len(vectors_train)\n",
        "        y_test += [utils.to_categorical(cls, len(class_list))] * len(vectors_test)\n",
        "\n",
        "    # Возвращаем результатов как numpy-массивов\n",
        "    return np.array(x_train), np.array(y_train), np.array(x_test), np.array(y_test)"
      ],
      "metadata": {
        "id": "cTwyvvQyb_-e"
      },
      "execution_count": null,
      "outputs": []
    },
    {
      "cell_type": "code",
      "source": [
        "x_train, y_train, x_test, y_test = seq_vectorize(seq_train_balance, 0.1, CLASS_LIST_BALANCE, WIN_SIZE, WIN_STEP)"
      ],
      "metadata": {
        "id": "GQKviB5lcDng"
      },
      "execution_count": null,
      "outputs": []
    },
    {
      "cell_type": "code",
      "source": [
        "print(f'Форма входных данных для обучающей выборки: {x_train.shape}')\n",
        "print(f'Форма выходных данных (меток) для обучающей выборки: {y_train.shape}')"
      ],
      "metadata": {
        "colab": {
          "base_uri": "https://localhost:8080/"
        },
        "id": "LQWmO4UNcGud",
        "outputId": "4bc45914-abdb-4df5-83f6-37af7f079290"
      },
      "execution_count": null,
      "outputs": [
        {
          "output_type": "stream",
          "name": "stdout",
          "text": [
            "Форма входных данных для обучающей выборки: (23248, 1000)\n",
            "Форма выходных данных (меток) для обучающей выборки: (23248, 9)\n"
          ]
        }
      ]
    },
    {
      "cell_type": "code",
      "source": [
        "print(f'Форма входных данных для тестовой выборки: {x_test.shape}')\n",
        "print(f'Форма выходных данных (меток) для тестовой выборки: {y_test.shape}')"
      ],
      "metadata": {
        "colab": {
          "base_uri": "https://localhost:8080/"
        },
        "id": "FC95rqlIcPA8",
        "outputId": "d6e8d86f-2c04-41d1-9b70-41fa30eacf6f"
      },
      "execution_count": null,
      "outputs": [
        {
          "output_type": "stream",
          "name": "stdout",
          "text": [
            "Форма входных данных для тестовой выборки: (2510, 1000)\n",
            "Форма выходных данных (меток) для тестовой выборки: (2510, 9)\n"
          ]
        }
      ]
    },
    {
      "cell_type": "code",
      "source": [
        "# Вывод графиков точности и ошибки\n",
        "def show_plot(history):\n",
        "    fig, (ax1, ax2) = plt.subplots(1, 2, figsize=(18, 5))\n",
        "    fig.suptitle('График процесса обучения модели')\n",
        "    ax1.plot(history.history['accuracy'],\n",
        "               label='График точности на обучающей выборке')\n",
        "    ax1.plot(history.history['val_accuracy'],\n",
        "               label='График точности на проверочной выборке')\n",
        "    ax1.xaxis.get_major_locator().set_params(integer=True) # На оси х показываем целые числа\n",
        "    ax1.set_xlabel('Эпоха обучения')\n",
        "    ax1.set_ylabel('График точности')\n",
        "    ax1.legend()\n",
        "\n",
        "    ax2.plot(history.history['loss'],\n",
        "               label='Ошибка на обучающей выборке')\n",
        "    ax2.plot(history.history['val_loss'],\n",
        "               label='Ошибка на проверочной выборке')\n",
        "    ax2.xaxis.get_major_locator().set_params(integer=True) # На оси х показываем целые числа\n",
        "    ax2.set_xlabel('Эпоха обучения')\n",
        "    ax2.set_ylabel('Ошибка')\n",
        "    ax2.legend()\n",
        "    plt.show()\n",
        "\n",
        "# Функция вывода предсказанных значений\n",
        "def show_confusion_matrix(y_true, y_pred, class_labels):\n",
        "    # Матрица ошибок\n",
        "    cm = confusion_matrix(np.argmax(y_true, axis=1),\n",
        "                          np.argmax(y_pred, axis=1),\n",
        "                          normalize='true')\n",
        "    # Округление значений матрицы ошибок\n",
        "    cm = np.around(cm, 3)\n",
        "\n",
        "    # Отрисовка матрицы ошибок\n",
        "    fig, ax = plt.subplots(figsize=(10, 10))\n",
        "    ax.set_title(f'Матрица ошибок', fontsize=18)\n",
        "    disp = ConfusionMatrixDisplay(confusion_matrix=cm, display_labels=class_labels)\n",
        "    disp.plot(ax=ax)\n",
        "    plt.gca().images[-1].colorbar.remove()  # Убираем ненужную цветовую шкалу\n",
        "    plt.xlabel('Предсказанные классы', fontsize=16)\n",
        "    plt.ylabel('Верные классы', fontsize=16)\n",
        "    fig.autofmt_xdate(rotation=45)          # Наклон меток горизонтальной оси\n",
        "    plt.show()\n",
        "\n",
        "\n",
        "    # Средняя точность распознавания определяется как среднее диагональных элементов матрицы ошибок\n",
        "    print('\\nСредняя точность распознавания: {:3.0f}%'.format(100. * cm.diagonal().mean()))\n"
      ],
      "metadata": {
        "id": "x8GD6-jos5J9"
      },
      "execution_count": null,
      "outputs": []
    },
    {
      "cell_type": "code",
      "source": [
        "# Создание последовательной модели нейросети\n",
        "model_bow = Sequential()\n",
        "# Входной полносвязный слой\n",
        "model_bow.add(Dense(200, input_dim=NUM_WORDS, activation=\"relu\"))\n",
        "# Слой регуляризации Dropout\n",
        "model_bow.add(Dropout(0.25))\n",
        "# Слой пакетной нормализации\n",
        "model_bow.add(BatchNormalization())\n",
        "# Выходной полносвязный слой\n",
        "model_bow.add(Dense(len(CLASS_LIST_BALANCE), activation='softmax'))\n",
        "\n",
        "# Компиляция модели\n",
        "model_bow.compile(optimizer='adam',\n",
        "              loss='categorical_crossentropy',\n",
        "              metrics=['accuracy'])\n",
        "\n",
        "# Вывод модели\n",
        "model_bow.summary()"
      ],
      "metadata": {
        "colab": {
          "base_uri": "https://localhost:8080/"
        },
        "id": "imIBjXwmenYD",
        "outputId": "ea431cf1-3437-4f4d-d109-546f59cd6377"
      },
      "execution_count": null,
      "outputs": [
        {
          "output_type": "stream",
          "name": "stdout",
          "text": [
            "Model: \"sequential_2\"\n",
            "_________________________________________________________________\n",
            " Layer (type)                Output Shape              Param #   \n",
            "=================================================================\n",
            " dense_4 (Dense)             (None, 200)               2000200   \n",
            "                                                                 \n",
            " dropout_2 (Dropout)         (None, 200)               0         \n",
            "                                                                 \n",
            " batch_normalization_3 (Bat  (None, 200)               800       \n",
            " chNormalization)                                                \n",
            "                                                                 \n",
            " dense_5 (Dense)             (None, 9)                 1809      \n",
            "                                                                 \n",
            "=================================================================\n",
            "Total params: 2002809 (7.64 MB)\n",
            "Trainable params: 2002409 (7.64 MB)\n",
            "Non-trainable params: 400 (1.56 KB)\n",
            "_________________________________________________________________\n"
          ]
        }
      ]
    },
    {
      "cell_type": "code",
      "source": [
        "#Создаём сеть с Embedding слоем\n",
        "model_embedding_reg = Sequential()\n",
        "model_embedding_reg.add(Embedding(NUM_WORDS, 200, input_length=WIN_SIZE))\n",
        "model_embedding_reg.add(SpatialDropout1D(0.2))\n",
        "model_embedding_reg.add(Flatten())\n",
        "model_embedding_reg.add(BatchNormalization())\n",
        "model_embedding_reg.add(Dense(200, activation=\"relu\"))\n",
        "model_embedding_reg.add(Dropout(0.2))\n",
        "model_embedding_reg.add(BatchNormalization())\n",
        "model_embedding_reg.add(Dense(len(CLASS_LIST_BALANCE), activation='softmax'))\n",
        "\n",
        "# Компиляция модели\n",
        "model_embedding_reg.compile(optimizer='adam',\n",
        "              loss='categorical_crossentropy',\n",
        "              metrics=['accuracy'])\n",
        "\n",
        "# Вывод модели\n",
        "model_embedding_reg.summary()"
      ],
      "metadata": {
        "colab": {
          "base_uri": "https://localhost:8080/"
        },
        "id": "UO6lrXJUeZFo",
        "outputId": "ffdee4d0-bb35-406c-c6ec-9fbf8774ae09"
      },
      "execution_count": null,
      "outputs": [
        {
          "output_type": "stream",
          "name": "stdout",
          "text": [
            "Model: \"sequential_3\"\n",
            "_________________________________________________________________\n",
            " Layer (type)                Output Shape              Param #   \n",
            "=================================================================\n",
            " embedding_1 (Embedding)     (None, 1000, 200)         2000000   \n",
            "                                                                 \n",
            " spatial_dropout1d_1 (Spati  (None, 1000, 200)         0         \n",
            " alDropout1D)                                                    \n",
            "                                                                 \n",
            " flatten_1 (Flatten)         (None, 200000)            0         \n",
            "                                                                 \n",
            " batch_normalization_4 (Bat  (None, 200000)            800000    \n",
            " chNormalization)                                                \n",
            "                                                                 \n",
            " dense_6 (Dense)             (None, 200)               40000200  \n",
            "                                                                 \n",
            " dropout_3 (Dropout)         (None, 200)               0         \n",
            "                                                                 \n",
            " batch_normalization_5 (Bat  (None, 200)               800       \n",
            " chNormalization)                                                \n",
            "                                                                 \n",
            " dense_7 (Dense)             (None, 9)                 1809      \n",
            "                                                                 \n",
            "=================================================================\n",
            "Total params: 42802809 (163.28 MB)\n",
            "Trainable params: 42402409 (161.75 MB)\n",
            "Non-trainable params: 400400 (1.53 MB)\n",
            "_________________________________________________________________\n"
          ]
        }
      ]
    },
    {
      "cell_type": "code",
      "source": [
        "# Обучение модели\n",
        "history = model_embedding_reg.fit(\n",
        "    x_train,\n",
        "    y_train,\n",
        "    epochs=20,\n",
        "    batch_size=128,\n",
        "    validation_split=0.1\n",
        ")"
      ],
      "metadata": {
        "colab": {
          "base_uri": "https://localhost:8080/"
        },
        "id": "hDYZMewffNDR",
        "outputId": "1d89ffcf-edd9-474a-f3d1-f49259693d3b"
      },
      "execution_count": null,
      "outputs": [
        {
          "output_type": "stream",
          "name": "stdout",
          "text": [
            "Epoch 1/20\n",
            "164/164 [==============================] - 18s 96ms/step - loss: 0.9318 - accuracy: 0.7437 - val_loss: 3.2551 - val_accuracy: 0.0000e+00\n",
            "Epoch 2/20\n",
            "164/164 [==============================] - 11s 67ms/step - loss: 0.0126 - accuracy: 1.0000 - val_loss: 2.7053 - val_accuracy: 0.0013\n",
            "Epoch 3/20\n",
            "164/164 [==============================] - 9s 54ms/step - loss: 0.0038 - accuracy: 1.0000 - val_loss: 2.3894 - val_accuracy: 0.0834\n",
            "Epoch 4/20\n",
            "164/164 [==============================] - 9s 52ms/step - loss: 0.0022 - accuracy: 1.0000 - val_loss: 2.2472 - val_accuracy: 0.1695\n",
            "Epoch 5/20\n",
            "164/164 [==============================] - 8s 50ms/step - loss: 0.0014 - accuracy: 1.0000 - val_loss: 2.2019 - val_accuracy: 0.2138\n",
            "Epoch 6/20\n",
            "164/164 [==============================] - 8s 48ms/step - loss: 9.6482e-04 - accuracy: 1.0000 - val_loss: 2.2246 - val_accuracy: 0.2146\n",
            "Epoch 7/20\n",
            "164/164 [==============================] - 8s 47ms/step - loss: 7.5606e-04 - accuracy: 1.0000 - val_loss: 2.2379 - val_accuracy: 0.2211\n",
            "Epoch 8/20\n",
            "164/164 [==============================] - 7s 45ms/step - loss: 5.8293e-04 - accuracy: 1.0000 - val_loss: 2.2578 - val_accuracy: 0.2185\n",
            "Epoch 9/20\n",
            "164/164 [==============================] - 7s 46ms/step - loss: 4.6968e-04 - accuracy: 1.0000 - val_loss: 2.2540 - val_accuracy: 0.2202\n",
            "Epoch 10/20\n",
            "164/164 [==============================] - 8s 48ms/step - loss: 3.8764e-04 - accuracy: 1.0000 - val_loss: 2.2579 - val_accuracy: 0.2215\n",
            "Epoch 11/20\n",
            "164/164 [==============================] - 7s 45ms/step - loss: 3.3284e-04 - accuracy: 1.0000 - val_loss: 2.2546 - val_accuracy: 0.2237\n",
            "Epoch 12/20\n",
            "164/164 [==============================] - 7s 44ms/step - loss: 2.7782e-04 - accuracy: 1.0000 - val_loss: 2.2535 - val_accuracy: 0.2288\n",
            "Epoch 13/20\n",
            "164/164 [==============================] - 7s 45ms/step - loss: 2.2542e-04 - accuracy: 1.0000 - val_loss: 2.2674 - val_accuracy: 0.2284\n",
            "Epoch 14/20\n",
            "164/164 [==============================] - 8s 46ms/step - loss: 2.0514e-04 - accuracy: 1.0000 - val_loss: 2.2626 - val_accuracy: 0.2310\n",
            "Epoch 15/20\n",
            "164/164 [==============================] - 7s 43ms/step - loss: 1.7594e-04 - accuracy: 1.0000 - val_loss: 2.2712 - val_accuracy: 0.2314\n",
            "Epoch 16/20\n",
            "164/164 [==============================] - 7s 43ms/step - loss: 1.5694e-04 - accuracy: 1.0000 - val_loss: 2.2877 - val_accuracy: 0.2314\n",
            "Epoch 17/20\n",
            "164/164 [==============================] - 7s 45ms/step - loss: 1.3030e-04 - accuracy: 1.0000 - val_loss: 2.2970 - val_accuracy: 0.2297\n",
            "Epoch 18/20\n",
            "164/164 [==============================] - 7s 46ms/step - loss: 1.1545e-04 - accuracy: 1.0000 - val_loss: 2.2901 - val_accuracy: 0.2318\n",
            "Epoch 19/20\n",
            "164/164 [==============================] - 7s 43ms/step - loss: 1.0541e-04 - accuracy: 1.0000 - val_loss: 2.3080 - val_accuracy: 0.2327\n",
            "Epoch 20/20\n",
            "164/164 [==============================] - 7s 45ms/step - loss: 9.4442e-05 - accuracy: 1.0000 - val_loss: 2.3152 - val_accuracy: 0.2305\n"
          ]
        }
      ]
    },
    {
      "cell_type": "code",
      "source": [
        "show_plot(history)"
      ],
      "metadata": {
        "colab": {
          "base_uri": "https://localhost:8080/",
          "height": 515
        },
        "id": "l4Vs6Fdisr-R",
        "outputId": "7b229098-5938-4b57-ade6-c4c187623420"
      },
      "execution_count": null,
      "outputs": [
        {
          "output_type": "display_data",
          "data": {
            "text/plain": [
              "<Figure size 1800x500 with 2 Axes>"
            ],
            "image/png": "[encoded data removed]"
          },
          "metadata": {}
        }
      ]
    },
    {
      "cell_type": "code",
      "source": [
        "!wget https://storage.yandexcloud.net/natasha-navec/packs/navec_hudlit_v1_12B_500K_300d_100q.tar"
      ],
      "metadata": {
        "colab": {
          "base_uri": "https://localhost:8080/"
        },
        "id": "MINRTSPR3Gj-",
        "outputId": "f58b099a-f171-41a4-828c-87916497a0f2"
      },
      "execution_count": null,
      "outputs": [
        {
          "output_type": "stream",
          "name": "stdout",
          "text": [
            "--2024-06-04 20:24:53--  https://storage.yandexcloud.net/natasha-navec/packs/navec_hudlit_v1_12B_500K_300d_100q.tar\n",
            "Resolving storage.yandexcloud.net (storage.yandexcloud.net)... 213.180.193.243, 2a02:6b8::1d9\n",
            "Connecting to storage.yandexcloud.net (storage.yandexcloud.net)|213.180.193.243|:443... connected.\n",
            "HTTP request sent, awaiting response... 200 OK\n",
            "Length: 53012480 (51M) [application/x-tar]\n",
            "Saving to: ‘navec_hudlit_v1_12B_500K_300d_100q.tar’\n",
            "\n",
            "navec_hudlit_v1_12B 100%[===================>]  50.56M  15.0MB/s    in 5.3s    \n",
            "\n",
            "2024-06-04 20:25:00 (9.46 MB/s) - ‘navec_hudlit_v1_12B_500K_300d_100q.tar’ saved [53012480/53012480]\n",
            "\n"
          ]
        }
      ]
    },
    {
      "cell_type": "code",
      "source": [
        "!pip install navec"
      ],
      "metadata": {
        "colab": {
          "base_uri": "https://localhost:8080/"
        },
        "id": "WI0ygAuV3Kwv",
        "outputId": "d698afbf-b1e9-4090-d340-3e8eb80f5f0c"
      },
      "execution_count": null,
      "outputs": [
        {
          "output_type": "stream",
          "name": "stdout",
          "text": [
            "Collecting navec\n",
            "  Downloading navec-0.10.0-py3-none-any.whl (23 kB)\n",
            "Requirement already satisfied: numpy in /usr/local/lib/python3.10/dist-packages (from navec) (1.25.2)\n",
            "Installing collected packages: navec\n",
            "Successfully installed navec-0.10.0\n"
          ]
        }
      ]
    },
    {
      "cell_type": "code",
      "source": [
        "from navec import Navec\n",
        "\n",
        "navec = Navec.load('navec_hudlit_v1_12B_500K_300d_100q.tar')"
      ],
      "metadata": {
        "id": "HfaVX4Op3l39"
      },
      "execution_count": null,
      "outputs": []
    },
    {
      "cell_type": "code",
      "source": [
        "# Импорт необходимых библиотек\n",
        "from navec import Navec\n",
        "import keras\n",
        "import glob # Вспомогательный модуль для работы с файловой системой\n",
        "import numpy as np\n",
        "import matplotlib.pyplot as plt\n",
        "from keras.preprocessing.text import Tokenizer\n",
        "from keras.models import Sequential\n",
        "from keras.layers import Embedding, Flatten, Dense, BatchNormalization, Dropout\n",
        "from sklearn.model_selection import train_test_split\n",
        "from keras.callbacks import ModelCheckpoint\n",
        "from sklearn.metrics import confusion_matrix, ConfusionMatrixDisplay"
      ],
      "metadata": {
        "id": "4EhP4xFw4RCe"
      },
      "execution_count": null,
      "outputs": []
    },
    {
      "cell_type": "code",
      "source": [
        "# Загрузка модели Navec\n",
        "navec = Navec.load('navec_hudlit_v1_12B_500K_300d_100q.tar')\n",
        "\n",
        "# Загрузка данных\n",
        "data_path = keras.utils.get_file(\"russian_literature.zip\", \"https://storage.yandexcloud.net/academy.ai/russian_literature.zip\")\n",
        "\n",
        "# Разархивирование датасета\n",
        "!unzip -qo \"{data_path}\" -d ./dataset\n",
        "\n",
        "# Определение списка классов\n",
        "CLASS_LIST=[\"Bryusov\", \"Dostoevsky\", \"Gogol\", \"Gorky\", \"Tolstoy\"]"
      ],
      "metadata": {
        "colab": {
          "base_uri": "https://localhost:8080/"
        },
        "id": "G-ujCOgW7h2X",
        "outputId": "49884ed9-6aec-4ce2-82da-2366df40757f"
      },
      "execution_count": null,
      "outputs": [
        {
          "output_type": "stream",
          "name": "stdout",
          "text": [
            "error:  cannot create ./dataset/poems/Blok/╨б╤В╨╕╤Е╨╛╤В╨▓╨╛╤А╨╡╨╜╨╕╤П 1897-1903 ╨│╨│, ╨╜╨╡ ╨▓╨╛╤И╨╡╨┤╤И╨╕╨╡ ╨▓ ╨╛╤Б╨╜╨╛╨▓╨╜╨╛╨╡ ╤Б╨╛╨▒╤А╨░╨╜╨╕╨╡.txt\n",
            "        File name too long\n",
            "error:  cannot create ./dataset/prose/Gogol/╨Я╨╛╨▓╨╡╤Б╤В╤М ╨╛ ╤В╨╛╨╝, ╨║╨░╨║ ╨┐╨╛╤Б╤Б╨╛╤А╨╕╨╗╤Б╤П ╨Ш╨▓╨░╨╜ ╨Ш╨▓╨░╨╜╨╛╨▓╨╕╤З ╤Б ╨Ш╨▓╨░╨╜╨╛╨╝ ╨Э╨╕╨║╨╕╤Д╨╛╤А╨╛╨▓╨╕╤З╨╡╨╝.txt\n",
            "        File name too long\n",
            "error:  cannot create ./dataset/publicism/Tolstoy/╨Ф╨╛╨║╨╗╨░╨┤, ╨┐╤А╨╕╨│╨╛╤В╨╛╨▓╨╗╨╡╨╜╨╜╤Л╨╣ ╨┤╨╗╤П ╨║╨╛╨╜╨│╤А╨╡╤Б╤Б╨░ ╨╛ ╨╝╨╕╤А╨╡ ╨▓ ╨б╤В╨╛╨║╨│╨╛╨╗╤М╨╝╨╡.txt\n",
            "        File name too long\n",
            "error:  cannot create ./dataset/publicism/Tolstoy/╨Я╨╛╤З╨╡╨╝╤Г ╤Е╤А╨╕╤Б╤В╨╕╨░╨╜╤Б╨║╨╕╨╡ ╨╜╨░╤А╨╛╨┤╤Л ╨▓╨╛╨╛╨▒╤Й╨╡ ╨╕ ╨▓ ╨╛╤Б╨╛╨▒╨╡╨╜╨╜╨╛╤Б╤В╨╕ ╤А╤Г╤Б╤Б╨║╨╕╨╣ ╨╜╨░╤Е╨╛╨┤╤П╤В╤Б╤П ╤В╨╡╨┐╨╡╤А╤М ╨▓ ╨▒╨╡╨┤╤Б╤В╨▓╨╡╨╜╨╜╨╛╨╝ ╨┐╨╛╨╗╨╛╨╢╨╡╨╜╨╕╨╕.txt\n",
            "        File name too long\n"
          ]
        }
      ]
    },
    {
      "cell_type": "code",
      "source": [
        "# Сбор текстов по авторам\n",
        "all_texts = {}\n",
        "for author in CLASS_LIST:\n",
        "    all_texts[author] = ''\n",
        "    for path in glob.glob('./dataset/prose/{}/*.txt'.format(author)) +  glob.glob('./dataset/poems/{}/*.txt'.format(author)):\n",
        "        with open(f'{path}', 'r', errors='ignore') as f:\n",
        "            text = f.read()\n",
        "        all_texts[author]  += ' ' + text.replace('\\n', ' ')"
      ],
      "metadata": {
        "id": "gmOivAsT755n"
      },
      "execution_count": null,
      "outputs": []
    },
    {
      "cell_type": "code",
      "source": [
        "# Токенизация текстов\n",
        "embedding_dim = 300\n",
        "max_words = 10000\n",
        "\n",
        "tokenizer = Tokenizer(num_words=max_words,\n",
        "                      filters='!\"#$%&()*+,-–—./…:;<=>?@[\\\\]^_`{|}~«»\\t\\n\\xa0\\ufeff',\n",
        "                      lower=True, split=' ', char_level=False)\n",
        "tokenizer.fit_on_texts(all_texts.values())\n",
        "\n",
        "# Преобразование текстов в последовательности токенов\n",
        "seq_train = tokenizer.texts_to_sequences(all_texts.values())\n",
        "seq_train_balance = [seq_train[cls][:40000] for cls in range(len(CLASS_LIST))]\n",
        "\n",
        "# Функция для разбиения последовательностей на отрезки с использованием скользящего окна\n",
        "WIN_SIZE = 1000\n",
        "WIN_STEP = 100"
      ],
      "metadata": {
        "id": "huTb_r_87--0"
      },
      "execution_count": null,
      "outputs": []
    },
    {
      "cell_type": "code",
      "source": [
        "def seq_split(sequence, win_size, step):\n",
        "    return [sequence[i:i + win_size] for i in range(0, len(sequence) - win_size + 1, step)]\n",
        "\n",
        "def seq_vectorize(seq_list, test_split, class_list, win_size, step):\n",
        "    x_train, y_train, x_test, y_test =  [], [], [], []\n",
        "\n",
        "    for class_item in class_list:\n",
        "        cls = class_list.index(class_item)\n",
        "        gate_split = int(len(seq_list[cls]) * (1-test_split))\n",
        "\n",
        "        vectors_train = seq_split(seq_list[cls][:gate_split], win_size, step)\n",
        "        vectors_test = seq_split(seq_list[cls][gate_split:], win_size, step)\n",
        "\n",
        "        x_train += vectors_train\n",
        "        x_test += vectors_test\n",
        "\n",
        "        y_train += [keras.utils.to_categorical(cls, len(class_list))] * len(vectors_train)\n",
        "        y_test += [keras.utils.to_categorical(cls, len(class_list))] * len(vectors_test)\n",
        "\n",
        "    return np.array(x_train), np.array(y_train), np.array(x_test), np.array(y_test)\n",
        "\n",
        "x_train, y_train, x_test, y_test = seq_vectorize(\n",
        "    seq_train_balance,\n",
        "    test_split=0.1,\n",
        "    class_list=CLASS_LIST,\n",
        "    win_size=WIN_SIZE,\n",
        "    step=WIN_STEP\n",
        ")"
      ],
      "metadata": {
        "id": "ltirqV708Fqn"
      },
      "execution_count": null,
      "outputs": []
    },
    {
      "cell_type": "code",
      "source": [
        "# Функция для отображения матрицы ошибок\n",
        "def show_confusion_matrix(y_true, y_pred, class_labels):\n",
        "    cm = confusion_matrix(np.argmax(y_true, axis=1), np.argmax(y_pred, axis=1), normalize='true')\n",
        "    cm = np.around(cm, 3)\n",
        "\n",
        "    fig, ax = plt.subplots(figsize=(10, 10))\n",
        "    ax.set_title('Матрица ошибок', fontsize=18)\n",
        "    disp = ConfusionMatrixDisplay(confusion_matrix=cm, display_labels=class_labels)\n",
        "    disp.plot(ax=ax)\n",
        "    plt.gca().images[-1].colorbar.remove()\n",
        "    plt.xlabel('Предсказанные классы', fontsize=16)\n",
        "    plt.ylabel('Верные классы', fontsize=16)\n",
        "    fig.autofmt_xdate(rotation=45)\n",
        "    plt.show()\n",
        "\n",
        "    print('\\nСредняя точность распознавания: {:3.0f}%'.format(100. * cm.diagonal().mean()))"
      ],
      "metadata": {
        "id": "bHYF3H3b8IpX"
      },
      "execution_count": null,
      "outputs": []
    },
    {
      "cell_type": "code",
      "source": [
        "# Создание матрицы эмбеддингов\n",
        "word_index = tokenizer.word_index\n",
        "embeddings_index = navec\n",
        "\n",
        "embedding_matrix = np.zeros((max_words, embedding_dim))\n",
        "for word, i in word_index.items():\n",
        "    if i < max_words:\n",
        "        embedding_vector = embeddings_index.get(word)\n",
        "        if embedding_vector is not None:\n",
        "            embedding_matrix[i] = embedding_vector"
      ],
      "metadata": {
        "id": "Dx7DeUiC8LdU"
      },
      "execution_count": null,
      "outputs": []
    },
    {
      "cell_type": "code",
      "source": [
        "# Создание модели\n",
        "model = Sequential()\n",
        "model.add(Embedding(max_words, embedding_dim, input_length=WIN_SIZE))\n",
        "model.add(BatchNormalization())\n",
        "model.add(Dense(40, activation=\"relu\"))\n",
        "model.add(Dropout(0.6))\n",
        "model.add(BatchNormalization())\n",
        "model.add(Flatten())\n",
        "model.add(Dense(len(CLASS_LIST), activation='softmax'))"
      ],
      "metadata": {
        "id": "MUB5UwL38N0Z"
      },
      "execution_count": null,
      "outputs": []
    },
    {
      "cell_type": "code",
      "source": [
        "# Установка весов слоя Embedding и заморозка\n",
        "model.layers[0].set_weights([embedding_matrix])\n",
        "model.layers[0].trainable = False\n",
        "\n",
        "# Разделение данных на обучающее и валидационное множества\n",
        "x_train, x_val, y_train, y_val = train_test_split(x_train, y_train, test_size=0.2, random_state=42)\n",
        "\n",
        "# Определение коллбэка для сохранения лучшей модели\n",
        "checkpoint = ModelCheckpoint('best_model.h5', monitor='val_accuracy', verbose=1, save_best_only=True, mode='max')"
      ],
      "metadata": {
        "id": "zDsNHJit8RmD"
      },
      "execution_count": null,
      "outputs": []
    },
    {
      "cell_type": "code",
      "source": [
        "# Компиляция модели\n",
        "model.compile(optimizer='adam', loss='categorical_crossentropy', metrics=['accuracy'])\n",
        "\n",
        "# Обучение модели с использованием коллбэка\n",
        "history = model.fit(x_train, y_train, epochs=50, batch_size=128, validation_data=(x_val, y_val), callbacks=[checkpoint])\n",
        "\n",
        "# Сохранение весов модели\n",
        "model.save_weights('pre_trained_model.h5')\n",
        "\n",
        "# Загрузка лучшей модели\n",
        "model.load_weights('best_model.h5')\n",
        "\n",
        "# Оценка модели на тестовых данных\n",
        "y_test_pred = model.predict(x_test)\n",
        "show_confusion_matrix(y_test, y_test_pred, CLASS_LIST)"
      ],
      "metadata": {
        "colab": {
          "base_uri": "https://localhost:8080/",
          "height": 1000
        },
        "id": "fQM0Nrcv8Ufi",
        "outputId": "eadc54c2-1ffd-4db9-9ace-4fe7b2a698e9"
      },
      "execution_count": null,
      "outputs": [
        {
          "output_type": "stream",
          "name": "stdout",
          "text": [
            "Epoch 1/50\n",
            "11/11 [==============================] - ETA: 0s - loss: 1.8738 - accuracy: 0.3319\n",
            "Epoch 1: val_accuracy improved from -inf to 0.36182, saving model to best_model.h5\n",
            "11/11 [==============================] - 2s 69ms/step - loss: 1.8738 - accuracy: 0.3319 - val_loss: 1.6657 - val_accuracy: 0.3618\n",
            "Epoch 2/50\n",
            " 4/11 [=========>....................] - ETA: 0s - loss: 0.5479 - accuracy: 0.8008"
          ]
        },
        {
          "output_type": "stream",
          "name": "stderr",
          "text": [
            "/usr/local/lib/python3.10/dist-packages/keras/src/engine/training.py:3103: UserWarning: You are saving your model as an HDF5 file via `model.save()`. This file format is considered legacy. We recommend using instead the native Keras format, e.g. `model.save('my_model.keras')`.\n",
            "  saving_api.save_model(\n"
          ]
        },
        {
          "output_type": "stream",
          "name": "stdout",
          "text": [
            " 9/11 [=======================>......] - ETA: 0s - loss: 0.4025 - accuracy: 0.8524\n",
            "Epoch 2: val_accuracy improved from 0.36182 to 0.36467, saving model to best_model.h5\n",
            "11/11 [==============================] - 0s 35ms/step - loss: 0.3737 - accuracy: 0.8632 - val_loss: 1.6793 - val_accuracy: 0.3647\n",
            "Epoch 3/50\n",
            "11/11 [==============================] - ETA: 0s - loss: 0.0946 - accuracy: 0.9758\n",
            "Epoch 3: val_accuracy improved from 0.36467 to 0.40456, saving model to best_model.h5\n",
            "11/11 [==============================] - 0s 39ms/step - loss: 0.0946 - accuracy: 0.9758 - val_loss: 1.6715 - val_accuracy: 0.4046\n",
            "Epoch 4/50\n",
            "10/11 [==========================>...] - ETA: 0s - loss: 0.0402 - accuracy: 0.9914\n",
            "Epoch 4: val_accuracy did not improve from 0.40456\n",
            "11/11 [==============================] - 0s 33ms/step - loss: 0.0393 - accuracy: 0.9922 - val_loss: 1.8272 - val_accuracy: 0.3789\n",
            "Epoch 5/50\n",
            "11/11 [==============================] - ETA: 0s - loss: 0.0215 - accuracy: 0.9972\n",
            "Epoch 5: val_accuracy did not improve from 0.40456\n",
            "11/11 [==============================] - 0s 35ms/step - loss: 0.0215 - accuracy: 0.9972 - val_loss: 2.0325 - val_accuracy: 0.3561\n",
            "Epoch 6/50\n",
            "11/11 [==============================] - ETA: 0s - loss: 0.0178 - accuracy: 0.9957\n",
            "Epoch 6: val_accuracy did not improve from 0.40456\n",
            "11/11 [==============================] - 0s 34ms/step - loss: 0.0178 - accuracy: 0.9957 - val_loss: 2.2103 - val_accuracy: 0.3704\n",
            "Epoch 7/50\n",
            "10/11 [==========================>...] - ETA: 0s - loss: 0.0105 - accuracy: 0.9977\n",
            "Epoch 7: val_accuracy did not improve from 0.40456\n",
            "11/11 [==============================] - 0s 35ms/step - loss: 0.0102 - accuracy: 0.9979 - val_loss: 2.4028 - val_accuracy: 0.3875\n",
            "Epoch 8/50\n",
            "11/11 [==============================] - ETA: 0s - loss: 0.0091 - accuracy: 1.0000\n",
            "Epoch 8: val_accuracy did not improve from 0.40456\n",
            "11/11 [==============================] - 0s 35ms/step - loss: 0.0091 - accuracy: 1.0000 - val_loss: 2.5598 - val_accuracy: 0.3960\n",
            "Epoch 9/50\n",
            "10/11 [==========================>...] - ETA: 0s - loss: 0.0091 - accuracy: 0.9992\n",
            "Epoch 9: val_accuracy improved from 0.40456 to 0.43875, saving model to best_model.h5\n",
            "11/11 [==============================] - 0s 47ms/step - loss: 0.0095 - accuracy: 0.9993 - val_loss: 2.6120 - val_accuracy: 0.4387\n",
            "Epoch 10/50\n",
            "11/11 [==============================] - ETA: 0s - loss: 0.0080 - accuracy: 0.9986\n",
            "Epoch 10: val_accuracy improved from 0.43875 to 0.46439, saving model to best_model.h5\n",
            "11/11 [==============================] - 0s 45ms/step - loss: 0.0080 - accuracy: 0.9986 - val_loss: 2.6424 - val_accuracy: 0.4644\n",
            "Epoch 11/50\n",
            "10/11 [==========================>...] - ETA: 0s - loss: 0.0082 - accuracy: 0.9992\n",
            "Epoch 11: val_accuracy improved from 0.46439 to 0.49858, saving model to best_model.h5\n",
            "11/11 [==============================] - 0s 44ms/step - loss: 0.0079 - accuracy: 0.9993 - val_loss: 2.5329 - val_accuracy: 0.4986\n",
            "Epoch 12/50\n",
            "11/11 [==============================] - ETA: 0s - loss: 0.0045 - accuracy: 1.0000\n",
            "Epoch 12: val_accuracy improved from 0.49858 to 0.52707, saving model to best_model.h5\n",
            "11/11 [==============================] - 0s 38ms/step - loss: 0.0045 - accuracy: 1.0000 - val_loss: 2.4644 - val_accuracy: 0.5271\n",
            "Epoch 13/50\n",
            " 9/11 [=======================>......] - ETA: 0s - loss: 0.0067 - accuracy: 1.0000\n",
            "Epoch 13: val_accuracy improved from 0.52707 to 0.52991, saving model to best_model.h5\n",
            "11/11 [==============================] - 0s 37ms/step - loss: 0.0061 - accuracy: 1.0000 - val_loss: 2.4062 - val_accuracy: 0.5299\n",
            "Epoch 14/50\n",
            "11/11 [==============================] - ETA: 0s - loss: 0.0035 - accuracy: 1.0000\n",
            "Epoch 14: val_accuracy improved from 0.52991 to 0.53846, saving model to best_model.h5\n",
            "11/11 [==============================] - 0s 39ms/step - loss: 0.0035 - accuracy: 1.0000 - val_loss: 2.3356 - val_accuracy: 0.5385\n",
            "Epoch 15/50\n",
            "10/11 [==========================>...] - ETA: 0s - loss: 0.0041 - accuracy: 1.0000\n",
            "Epoch 15: val_accuracy improved from 0.53846 to 0.55556, saving model to best_model.h5\n",
            "11/11 [==============================] - 0s 38ms/step - loss: 0.0040 - accuracy: 1.0000 - val_loss: 2.2654 - val_accuracy: 0.5556\n",
            "Epoch 16/50\n",
            "11/11 [==============================] - ETA: 0s - loss: 0.0041 - accuracy: 0.9993\n",
            "Epoch 16: val_accuracy improved from 0.55556 to 0.56980, saving model to best_model.h5\n",
            "11/11 [==============================] - 0s 39ms/step - loss: 0.0041 - accuracy: 0.9993 - val_loss: 2.1897 - val_accuracy: 0.5698\n",
            "Epoch 17/50\n",
            " 9/11 [=======================>......] - ETA: 0s - loss: 0.0030 - accuracy: 1.0000\n",
            "Epoch 17: val_accuracy improved from 0.56980 to 0.57550, saving model to best_model.h5\n",
            "11/11 [==============================] - 0s 35ms/step - loss: 0.0030 - accuracy: 1.0000 - val_loss: 2.0882 - val_accuracy: 0.5755\n",
            "Epoch 18/50\n",
            "10/11 [==========================>...] - ETA: 0s - loss: 0.0025 - accuracy: 1.0000\n",
            "Epoch 18: val_accuracy did not improve from 0.57550\n",
            "11/11 [==============================] - 0s 32ms/step - loss: 0.0025 - accuracy: 1.0000 - val_loss: 1.9557 - val_accuracy: 0.5641\n",
            "Epoch 19/50\n",
            " 9/11 [=======================>......] - ETA: 0s - loss: 0.0029 - accuracy: 1.0000\n",
            "Epoch 19: val_accuracy did not improve from 0.57550\n",
            "11/11 [==============================] - 0s 29ms/step - loss: 0.0030 - accuracy: 1.0000 - val_loss: 1.8343 - val_accuracy: 0.5726\n",
            "Epoch 20/50\n",
            " 9/11 [=======================>......] - ETA: 0s - loss: 0.0017 - accuracy: 1.0000\n",
            "Epoch 20: val_accuracy improved from 0.57550 to 0.58405, saving model to best_model.h5\n",
            "11/11 [==============================] - 0s 35ms/step - loss: 0.0017 - accuracy: 1.0000 - val_loss: 1.7026 - val_accuracy: 0.5840\n",
            "Epoch 21/50\n",
            "10/11 [==========================>...] - ETA: 0s - loss: 0.0039 - accuracy: 0.9992\n",
            "Epoch 21: val_accuracy improved from 0.58405 to 0.59829, saving model to best_model.h5\n",
            "11/11 [==============================] - 0s 38ms/step - loss: 0.0036 - accuracy: 0.9993 - val_loss: 1.5822 - val_accuracy: 0.5983\n",
            "Epoch 22/50\n",
            "11/11 [==============================] - ETA: 0s - loss: 0.0019 - accuracy: 1.0000\n",
            "Epoch 22: val_accuracy improved from 0.59829 to 0.61254, saving model to best_model.h5\n",
            "11/11 [==============================] - 0s 40ms/step - loss: 0.0019 - accuracy: 1.0000 - val_loss: 1.4599 - val_accuracy: 0.6125\n",
            "Epoch 23/50\n",
            " 9/11 [=======================>......] - ETA: 0s - loss: 0.0024 - accuracy: 1.0000\n",
            "Epoch 23: val_accuracy improved from 0.61254 to 0.61823, saving model to best_model.h5\n",
            "11/11 [==============================] - 0s 40ms/step - loss: 0.0023 - accuracy: 1.0000 - val_loss: 1.3406 - val_accuracy: 0.6182\n",
            "Epoch 24/50\n",
            " 9/11 [=======================>......] - ETA: 0s - loss: 0.0019 - accuracy: 1.0000\n",
            "Epoch 24: val_accuracy improved from 0.61823 to 0.64103, saving model to best_model.h5\n",
            "11/11 [==============================] - 0s 36ms/step - loss: 0.0023 - accuracy: 1.0000 - val_loss: 1.2224 - val_accuracy: 0.6410\n",
            "Epoch 25/50\n",
            "10/11 [==========================>...] - ETA: 0s - loss: 0.0018 - accuracy: 1.0000\n",
            "Epoch 25: val_accuracy improved from 0.64103 to 0.66382, saving model to best_model.h5\n",
            "11/11 [==============================] - 0s 39ms/step - loss: 0.0017 - accuracy: 1.0000 - val_loss: 1.1025 - val_accuracy: 0.6638\n",
            "Epoch 26/50\n",
            " 9/11 [=======================>......] - ETA: 0s - loss: 0.0013 - accuracy: 1.0000\n",
            "Epoch 26: val_accuracy improved from 0.66382 to 0.68091, saving model to best_model.h5\n",
            "11/11 [==============================] - 0s 41ms/step - loss: 0.0013 - accuracy: 1.0000 - val_loss: 0.9863 - val_accuracy: 0.6809\n",
            "Epoch 27/50\n",
            "10/11 [==========================>...] - ETA: 0s - loss: 0.0021 - accuracy: 1.0000\n",
            "Epoch 27: val_accuracy improved from 0.68091 to 0.71225, saving model to best_model.h5\n",
            "11/11 [==============================] - 0s 38ms/step - loss: 0.0020 - accuracy: 1.0000 - val_loss: 0.8721 - val_accuracy: 0.7123\n",
            "Epoch 28/50\n",
            "11/11 [==============================] - ETA: 0s - loss: 0.0011 - accuracy: 1.0000    \n",
            "Epoch 28: val_accuracy improved from 0.71225 to 0.73789, saving model to best_model.h5\n",
            "11/11 [==============================] - 0s 37ms/step - loss: 0.0011 - accuracy: 1.0000 - val_loss: 0.7782 - val_accuracy: 0.7379\n",
            "Epoch 29/50\n",
            " 9/11 [=======================>......] - ETA: 0s - loss: 0.0018 - accuracy: 1.0000\n",
            "Epoch 29: val_accuracy improved from 0.73789 to 0.74074, saving model to best_model.h5\n",
            "11/11 [==============================] - 0s 39ms/step - loss: 0.0016 - accuracy: 1.0000 - val_loss: 0.7055 - val_accuracy: 0.7407\n",
            "Epoch 30/50\n",
            "11/11 [==============================] - ETA: 0s - loss: 0.0021 - accuracy: 1.0000\n",
            "Epoch 30: val_accuracy improved from 0.74074 to 0.75499, saving model to best_model.h5\n",
            "11/11 [==============================] - 0s 37ms/step - loss: 0.0021 - accuracy: 1.0000 - val_loss: 0.6505 - val_accuracy: 0.7550\n",
            "Epoch 31/50\n",
            " 9/11 [=======================>......] - ETA: 0s - loss: 0.0017 - accuracy: 1.0000\n",
            "Epoch 31: val_accuracy improved from 0.75499 to 0.78917, saving model to best_model.h5\n",
            "11/11 [==============================] - 0s 35ms/step - loss: 0.0016 - accuracy: 1.0000 - val_loss: 0.5965 - val_accuracy: 0.7892\n",
            "Epoch 32/50\n",
            " 9/11 [=======================>......] - ETA: 0s - loss: 0.0012 - accuracy: 1.0000\n",
            "Epoch 32: val_accuracy improved from 0.78917 to 0.80912, saving model to best_model.h5\n",
            "11/11 [==============================] - 0s 38ms/step - loss: 0.0013 - accuracy: 1.0000 - val_loss: 0.5413 - val_accuracy: 0.8091\n",
            "Epoch 33/50\n",
            "10/11 [==========================>...] - ETA: 0s - loss: 8.1283e-04 - accuracy: 1.0000\n",
            "Epoch 33: val_accuracy improved from 0.80912 to 0.82621, saving model to best_model.h5\n",
            "11/11 [==============================] - 0s 38ms/step - loss: 0.0010 - accuracy: 1.0000 - val_loss: 0.5036 - val_accuracy: 0.8262\n",
            "Epoch 34/50\n",
            "11/11 [==============================] - ETA: 0s - loss: 0.0011 - accuracy: 1.0000\n",
            "Epoch 34: val_accuracy improved from 0.82621 to 0.84046, saving model to best_model.h5\n",
            "11/11 [==============================] - 0s 36ms/step - loss: 0.0011 - accuracy: 1.0000 - val_loss: 0.4612 - val_accuracy: 0.8405\n",
            "Epoch 35/50\n",
            " 9/11 [=======================>......] - ETA: 0s - loss: 8.7987e-04 - accuracy: 1.0000\n",
            "Epoch 35: val_accuracy improved from 0.84046 to 0.85755, saving model to best_model.h5\n",
            "11/11 [==============================] - 0s 35ms/step - loss: 8.7863e-04 - accuracy: 1.0000 - val_loss: 0.4289 - val_accuracy: 0.8575\n",
            "Epoch 36/50\n",
            "10/11 [==========================>...] - ETA: 0s - loss: 8.1171e-04 - accuracy: 1.0000\n",
            "Epoch 36: val_accuracy improved from 0.85755 to 0.86040, saving model to best_model.h5\n",
            "11/11 [==============================] - 0s 36ms/step - loss: 8.6847e-04 - accuracy: 1.0000 - val_loss: 0.4026 - val_accuracy: 0.8604\n",
            "Epoch 37/50\n",
            "10/11 [==========================>...] - ETA: 0s - loss: 9.7475e-04 - accuracy: 1.0000\n",
            "Epoch 37: val_accuracy improved from 0.86040 to 0.86610, saving model to best_model.h5\n",
            "11/11 [==============================] - 0s 43ms/step - loss: 9.1088e-04 - accuracy: 1.0000 - val_loss: 0.3789 - val_accuracy: 0.8661\n",
            "Epoch 38/50\n",
            " 9/11 [=======================>......] - ETA: 0s - loss: 7.6319e-04 - accuracy: 1.0000\n",
            "Epoch 38: val_accuracy improved from 0.86610 to 0.88034, saving model to best_model.h5\n",
            "11/11 [==============================] - 0s 44ms/step - loss: 7.3366e-04 - accuracy: 1.0000 - val_loss: 0.3575 - val_accuracy: 0.8803\n",
            "Epoch 39/50\n",
            "11/11 [==============================] - ETA: 0s - loss: 0.0016 - accuracy: 1.0000\n",
            "Epoch 39: val_accuracy did not improve from 0.88034\n",
            "11/11 [==============================] - 0s 38ms/step - loss: 0.0016 - accuracy: 1.0000 - val_loss: 0.3490 - val_accuracy: 0.8746\n",
            "Epoch 40/50\n",
            "11/11 [==============================] - ETA: 0s - loss: 9.1551e-04 - accuracy: 1.0000\n",
            "Epoch 40: val_accuracy did not improve from 0.88034\n",
            "11/11 [==============================] - 0s 35ms/step - loss: 9.1551e-04 - accuracy: 1.0000 - val_loss: 0.3379 - val_accuracy: 0.8803\n",
            "Epoch 41/50\n",
            "10/11 [==========================>...] - ETA: 0s - loss: 0.0014 - accuracy: 1.0000\n",
            "Epoch 41: val_accuracy improved from 0.88034 to 0.88889, saving model to best_model.h5\n",
            "11/11 [==============================] - 0s 46ms/step - loss: 0.0013 - accuracy: 1.0000 - val_loss: 0.3199 - val_accuracy: 0.8889\n",
            "Epoch 42/50\n",
            "11/11 [==============================] - ETA: 0s - loss: 6.8064e-04 - accuracy: 1.0000\n",
            "Epoch 42: val_accuracy improved from 0.88889 to 0.89174, saving model to best_model.h5\n",
            "11/11 [==============================] - 0s 43ms/step - loss: 6.8064e-04 - accuracy: 1.0000 - val_loss: 0.3068 - val_accuracy: 0.8917\n",
            "Epoch 43/50\n",
            "11/11 [==============================] - ETA: 0s - loss: 9.3175e-04 - accuracy: 1.0000\n",
            "Epoch 43: val_accuracy did not improve from 0.89174\n",
            "11/11 [==============================] - 0s 35ms/step - loss: 9.3175e-04 - accuracy: 1.0000 - val_loss: 0.2967 - val_accuracy: 0.8917\n",
            "Epoch 44/50\n",
            "10/11 [==========================>...] - ETA: 0s - loss: 7.7378e-04 - accuracy: 1.0000\n",
            "Epoch 44: val_accuracy did not improve from 0.89174\n",
            "11/11 [==============================] - 0s 30ms/step - loss: 7.7289e-04 - accuracy: 1.0000 - val_loss: 0.2902 - val_accuracy: 0.8917\n",
            "Epoch 45/50\n",
            "11/11 [==============================] - ETA: 0s - loss: 6.0694e-04 - accuracy: 1.0000\n",
            "Epoch 45: val_accuracy did not improve from 0.89174\n",
            "11/11 [==============================] - 0s 34ms/step - loss: 6.0694e-04 - accuracy: 1.0000 - val_loss: 0.2842 - val_accuracy: 0.8917\n",
            "Epoch 46/50\n",
            "10/11 [==========================>...] - ETA: 0s - loss: 0.0010 - accuracy: 1.0000\n",
            "Epoch 46: val_accuracy did not improve from 0.89174\n",
            "11/11 [==============================] - 0s 31ms/step - loss: 9.4795e-04 - accuracy: 1.0000 - val_loss: 0.2778 - val_accuracy: 0.8917\n",
            "Epoch 47/50\n",
            "11/11 [==============================] - ETA: 0s - loss: 5.3591e-04 - accuracy: 1.0000\n",
            "Epoch 47: val_accuracy improved from 0.89174 to 0.89459, saving model to best_model.h5\n",
            "11/11 [==============================] - 0s 40ms/step - loss: 5.3591e-04 - accuracy: 1.0000 - val_loss: 0.2703 - val_accuracy: 0.8946\n",
            "Epoch 48/50\n",
            "10/11 [==========================>...] - ETA: 0s - loss: 0.0019 - accuracy: 0.9992\n",
            "Epoch 48: val_accuracy did not improve from 0.89459\n",
            "11/11 [==============================] - 0s 30ms/step - loss: 0.0018 - accuracy: 0.9993 - val_loss: 0.2646 - val_accuracy: 0.8946\n",
            "Epoch 49/50\n",
            " 9/11 [=======================>......] - ETA: 0s - loss: 5.2571e-04 - accuracy: 1.0000\n",
            "Epoch 49: val_accuracy improved from 0.89459 to 0.90028, saving model to best_model.h5\n",
            "11/11 [==============================] - 0s 40ms/step - loss: 5.0942e-04 - accuracy: 1.0000 - val_loss: 0.2608 - val_accuracy: 0.9003\n",
            "Epoch 50/50\n",
            "10/11 [==========================>...] - ETA: 0s - loss: 6.8814e-04 - accuracy: 1.0000\n",
            "Epoch 50: val_accuracy improved from 0.90028 to 0.90598, saving model to best_model.h5\n",
            "11/11 [==============================] - 0s 39ms/step - loss: 6.4445e-04 - accuracy: 1.0000 - val_loss: 0.2578 - val_accuracy: 0.9060\n",
            "5/5 [==============================] - 0s 8ms/step\n"
          ]
        },
        {
          "output_type": "display_data",
          "data": {
            "text/plain": [
              "<Figure size 1000x1000 with 1 Axes>"
            ],
            "image/png": "[encoded data removed]"
          },
          "metadata": {}
        },
        {
          "output_type": "stream",
          "name": "stdout",
          "text": [
            "\n",
            "Средняя точность распознавания:  88%\n"
          ]
        }
      ]
    }
  ]
}